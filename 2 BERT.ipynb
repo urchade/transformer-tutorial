{
 "cells": [
  {
   "cell_type": "code",
   "execution_count": 1,
   "metadata": {},
   "outputs": [],
   "source": [
    "import torch \n",
    "from torch import nn\n",
    "import torch.nn.functional as F\n",
    "from torch.utils.data import DataLoader, Dataset, random_split\n",
    "\n",
    "import numpy as np\n",
    "import datasets\n",
    "from tqdm import tqdm\n",
    "import seaborn as sns\n",
    "import matplotlib.pyplot as plt\n",
    "\n",
    "from sklearn.metrics import accuracy_score, confusion_matrix\n",
    "\n",
    "from transformer_utils import TransformerEncoder, PositionEmbedding, get_masks"
   ]
  },
  {
   "cell_type": "code",
   "execution_count": 2,
   "metadata": {},
   "outputs": [
    {
     "name": "stderr",
     "output_type": "stream",
     "text": [
      "Using custom data configuration default\n",
      "Reusing dataset ag_news (/home/urchade.zaratiana/.cache/huggingface/datasets/ag_news/default/0.0.0/fb5c5e74a110037311ef5e904583ce9f8b9fbc1354290f97b4929f01b3f48b1a)\n"
     ]
    }
   ],
   "source": [
    "dataset = datasets.load_dataset(\"ag_news\")['train']"
   ]
  },
  {
   "cell_type": "code",
   "execution_count": 3,
   "metadata": {},
   "outputs": [
    {
     "data": {
      "text/plain": [
       "{'text': Value(dtype='string', id=None),\n",
       " 'label': ClassLabel(num_classes=4, names=['World', 'Sports', 'Business', 'Sci/Tech'], names_file=None, id=None)}"
      ]
     },
     "execution_count": 3,
     "metadata": {},
     "output_type": "execute_result"
    }
   ],
   "source": [
    "dataset.features"
   ]
  },
  {
   "cell_type": "code",
   "execution_count": 4,
   "metadata": {},
   "outputs": [],
   "source": [
    "# create vocab file\n",
    "\n",
    "all_text = ''.join([el['text'] for el in dataset])\n",
    "\n",
    "vocab_file = 'vocab_ag_news.txt'\n",
    "\n",
    "with open(vocab_file, 'w') as f:\n",
    "    f.write(all_text)"
   ]
  },
  {
   "cell_type": "markdown",
   "metadata": {},
   "source": [
    "### Training a bert tokenizer"
   ]
  },
  {
   "cell_type": "code",
   "execution_count": 5,
   "metadata": {},
   "outputs": [],
   "source": [
    "# ! pip install tokenizers\n",
    "\n",
    "from tokenizers import BertWordPieceTokenizer\n",
    "from tokenizers.processors import TemplateProcessing"
   ]
  },
  {
   "cell_type": "code",
   "execution_count": 6,
   "metadata": {},
   "outputs": [],
   "source": [
    "bert_tokenizer = BertWordPieceTokenizer()"
   ]
  },
  {
   "cell_type": "code",
   "execution_count": 7,
   "metadata": {},
   "outputs": [],
   "source": [
    "bert_tokenizer.post_processor = TemplateProcessing(\n",
    "    single=\"[CLS] $A [SEP]\",\n",
    "    special_tokens=[\n",
    "        (\"[CLS]\", 1),\n",
    "        (\"[SEP]\", 2),\n",
    "    ],\n",
    ")"
   ]
  },
  {
   "cell_type": "code",
   "execution_count": 8,
   "metadata": {},
   "outputs": [],
   "source": [
    "bert_tokenizer.train(['vocab_ag_news.txt'], vocab_size=20000)"
   ]
  },
  {
   "cell_type": "markdown",
   "metadata": {},
   "source": [
    "### Dataset and data loaders"
   ]
  },
  {
   "cell_type": "code",
   "execution_count": 13,
   "metadata": {},
   "outputs": [],
   "source": [
    "class TextDataset(Dataset):\n",
    "    \n",
    "    def __init__(self, dataset):\n",
    "        \n",
    "        self.dataset = dataset\n",
    "        \n",
    "    def __len__(self):\n",
    "        return len(self.dataset)\n",
    "    \n",
    "    def __getitem__(self, idx):\n",
    "        \n",
    "        x = self.dataset[idx]['text']\n",
    "        y = self.dataset[idx]['label']\n",
    "        \n",
    "        return x, y"
   ]
  },
  {
   "cell_type": "code",
   "execution_count": 14,
   "metadata": {},
   "outputs": [],
   "source": [
    "def collate(batch):\n",
    "        \n",
    "    bert_tokenizer.enable_truncation(100)\n",
    "    bert_tokenizer.enable_padding()\n",
    "    \n",
    "    src = bert_tokenizer.encode_batch([item[0] for item in batch])\n",
    "    \n",
    "    src = torch.LongTensor([i.ids for i in src])\n",
    "        \n",
    "    y = torch.LongTensor([item[1] for item in batch])\n",
    "        \n",
    "    return [src, y]"
   ]
  },
  {
   "cell_type": "code",
   "execution_count": 15,
   "metadata": {},
   "outputs": [
    {
     "name": "stdout",
     "output_type": "stream",
     "text": [
      "120000\n"
     ]
    }
   ],
   "source": [
    "all_dataset = TextDataset(dataset)\n",
    "\n",
    "print(len(dataset))\n",
    "\n",
    "train, val = random_split(all_dataset, [len(all_dataset)-5000, 5000])\n",
    "\n",
    "train_loader = DataLoader(train, batch_size=128, shuffle=True, collate_fn=collate, num_workers=15)\n",
    "\n",
    "val_loader = DataLoader(val, batch_size=512, shuffle=False, collate_fn=collate, num_workers=11)"
   ]
  },
  {
   "cell_type": "markdown",
   "metadata": {},
   "source": [
    "### PetitBERT model"
   ]
  },
  {
   "cell_type": "markdown",
   "metadata": {},
   "source": [
    "Very short summary of bert pre-training\n",
    "\n",
    "Bert base: vocab_size ~ 30.000, d_model=768, n_head=12, num_layers=12\n",
    "\n",
    "Bert was trained with two tasks: <strong>Masked language modeling</strong> & <strong>Next-sentence prediction</strong>\n",
    "\n",
    "<strong>Masked language modeling</strong>\n",
    "\n",
    "    - model: bert = TransformerEncoder(....)\n",
    "\n",
    "    - input x\n",
    "        ex:  '[x1, x2, [MASK], x4]'\n",
    "    \n",
    "    - target y\n",
    "        ex:  [ 0, 0, x3, 0 ]\n",
    "\n",
    "    - compute prediction\n",
    "        pred = softmax_layer(bert(x))\n",
    "\n",
    "    - compute loss\n",
    "        mlm_loss = cross_entropy(pred, y, ignore_index=0)\n",
    "\n",
    "    - optimize loss with gradient descent\n",
    "\n",
    "<strong>Next-sentence prediction</strong>\n",
    "\n",
    "    - model: bert = TransformerEncoder(....)\n",
    "\n",
    "    - input x\n",
    "        ex:  [[CLS], x1, x2, [SEP], x3, x4, [SEP]]\n",
    "    \n",
    "    - target y\n",
    "        ex:  [0] or [1]\n",
    "\n",
    "    - compute prediction\n",
    "        cls_rep = bert(x)[CLS]\n",
    "        pred = sigmoid_layer(cls_rep)\n",
    "\n",
    "    - compute loss\n",
    "        nsp_loss = binary_cross_entropy(pred, y)\n",
    "\n",
    "    - optimize loss with gradient descent\n",
    " \n",
    "The two tasks are performed at the same time (multi-task learning)"
   ]
  },
  {
   "cell_type": "code",
   "execution_count": 16,
   "metadata": {},
   "outputs": [],
   "source": [
    "# No pre-training for our petit bert ... :(\n",
    "\n",
    "class PetitBERT(nn.Module):\n",
    "    \n",
    "    def __init__(self, vocab_size, d_model=128, n_head=4, num_layers=2):\n",
    "        \n",
    "        super().__init__()\n",
    "        \n",
    "        self.d_model = d_model\n",
    "        \n",
    "        self.word_embeddings = nn.Embedding(vocab_size, d_model, padding_idx=0)\n",
    "        \n",
    "        # positional embedding\n",
    "        self.pos_embedding = PositionEmbedding(max_position=250, d_model=d_model)\n",
    "        \n",
    "        self.layers = TransformerEncoder(d_model, n_head, num_layers)\n",
    "        \n",
    "        self.pooler = nn.Sequential(\n",
    "            nn.Linear(d_model, d_model),\n",
    "            nn.Tanh()\n",
    "        )\n",
    "        \n",
    "    def forward(self, x):\n",
    "        \n",
    "        att_mask, _ = get_masks(x)\n",
    "        \n",
    "        x = self.word_embeddings(x) * np.sqrt(self.d_model)\n",
    "        \n",
    "        x = self.pos_embedding(x)\n",
    "        \n",
    "        # [batch_size, s_len, d_model]\n",
    "        x = self.layers(x, att_mask) \n",
    "        \n",
    "        # get representation of [CLS] token\n",
    "        pool_cls = self.pooler(x[:, 0, :])\n",
    "        \n",
    "        return x, pool_cls "
   ]
  },
  {
   "cell_type": "code",
   "execution_count": 17,
   "metadata": {},
   "outputs": [],
   "source": [
    "class BertClassifier(nn.Module):\n",
    "    \n",
    "    def __init__(self, num_classes, vocab_size, d_model=128, n_head=4, num_layers=2):\n",
    "        \n",
    "        super().__init__()\n",
    "        \n",
    "        self.bert = PetitBERT(vocab_size, d_model, n_head, num_layers)\n",
    "        \n",
    "        self.fc = nn.Linear(d_model, num_classes)\n",
    "        \n",
    "    def forward(self, x):\n",
    "        \n",
    "        _, cls_token_rep = self.bert(x)\n",
    "                \n",
    "        return self.fc(cls_token_rep)\n",
    "    \n",
    "    def compute_loss(self, x, y):\n",
    "        \n",
    "        y_hat = self.forward(x)\n",
    "        \n",
    "        loss = F.cross_entropy(y_hat, y)\n",
    "        \n",
    "        return loss"
   ]
  },
  {
   "cell_type": "code",
   "execution_count": 18,
   "metadata": {},
   "outputs": [],
   "source": [
    "def train_one_epoch(net: nn.Module, opt: torch.optim, dataloader: torch.utils.data.DataLoader):\n",
    "    \n",
    "    net.train()\n",
    "    \n",
    "    for param in net.parameters():\n",
    "        device = param.device\n",
    "        break\n",
    "    \n",
    "    losses = []\n",
    "    \n",
    "    pbar = tqdm(dataloader)\n",
    "    \n",
    "    for x, y in pbar:\n",
    "\n",
    "        net.zero_grad()\n",
    "\n",
    "        x, y = x.to(device), y.to(device)\n",
    "\n",
    "        loss = net.compute_loss(x, y)\n",
    "\n",
    "        loss.backward()\n",
    "\n",
    "        opt.step()\n",
    "        \n",
    "        loss_item = loss.item()\n",
    "        \n",
    "        losses.append(loss_item)\n",
    "        \n",
    "        pbar.set_description(f'train_loss = {np.array(losses).mean()}')\n",
    "        \n",
    "    return np.array(losses).mean()\n",
    "\n",
    "@torch.no_grad()\n",
    "def validate(net: nn.Module, dataloader: torch.utils.data.DataLoader):\n",
    "    \n",
    "    net.eval()\n",
    "    \n",
    "    for param in net.parameters():\n",
    "        device = param.device\n",
    "        break\n",
    "     \n",
    "    y_true = []\n",
    "    y_pred = []\n",
    "    \n",
    "    for x, y in dataloader:\n",
    "\n",
    "        x = x.to(device)\n",
    "\n",
    "        logits = net(x)\n",
    "        \n",
    "        y_hat = torch.argmax(logits, dim=1)\n",
    "        \n",
    "        y_pred.extend(y_hat.cpu().numpy().tolist())\n",
    "        \n",
    "        y_true.extend(y.numpy().tolist())\n",
    "    \n",
    "    return accuracy_score(y_true, y_pred), confusion_matrix(y_true, y_pred, normalize='true')"
   ]
  },
  {
   "cell_type": "code",
   "execution_count": 19,
   "metadata": {},
   "outputs": [],
   "source": [
    "model = BertClassifier(4, bert_tokenizer.get_vocab_size()).cuda()\n",
    "\n",
    "opt = torch.optim.AdamW(model.parameters(), lr=1e-4)"
   ]
  },
  {
   "cell_type": "code",
   "execution_count": 21,
   "metadata": {},
   "outputs": [
    {
     "data": {
      "text/plain": [
       "3267972"
      ]
     },
     "execution_count": 21,
     "metadata": {},
     "output_type": "execute_result"
    }
   ],
   "source": [
    "# number of parameters\n",
    "# ~~10 times smaller than bert base\n",
    "\n",
    "np.sum([p.numel() for p in model.parameters()])"
   ]
  },
  {
   "cell_type": "code",
   "execution_count": 22,
   "metadata": {},
   "outputs": [],
   "source": [
    "label_list = ['World', 'Sports', 'Business', 'Sci/Tech']\n",
    "\n",
    "def plot_conf(conf_mat):\n",
    "    sns.heatmap(conf_mat, annot=True, cbar=False, square=True, xticklabels=label_list, yticklabels=label_list)\n",
    "    plt.show()"
   ]
  },
  {
   "cell_type": "code",
   "execution_count": null,
   "metadata": {},
   "outputs": [
    {
     "name": "stdout",
     "output_type": "stream",
     "text": [
      "val_acc = 0.2508\n"
     ]
    },
    {
     "data": {
      "image/png": "[encoded data removed]",
      "text/plain": [
       "<Figure size 432x288 with 1 Axes>"
      ]
     },
     "metadata": {
      "needs_background": "light"
     },
     "output_type": "display_data"
    },
    {
     "name": "stderr",
     "output_type": "stream",
     "text": [
      "train_loss = 0.7097029953830367: 100%|██████████| 899/899 [01:32<00:00,  9.73it/s]\n"
     ]
    },
    {
     "name": "stdout",
     "output_type": "stream",
     "text": [
      "val_acc = 0.8296\n"
     ]
    },
    {
     "data": {
      "image/png": "[encoded data removed]",
      "text/plain": [
       "<Figure size 432x288 with 1 Axes>"
      ]
     },
     "metadata": {
      "needs_background": "light"
     },
     "output_type": "display_data"
    },
    {
     "name": "stderr",
     "output_type": "stream",
     "text": [
      "train_loss = 0.43758660064129057:  19%|█▊        | 167/899 [00:13<01:00, 12.17it/s]"
     ]
    }
   ],
   "source": [
    "model.cuda()\n",
    "\n",
    "for i in range(5):\n",
    "    \n",
    "    if i==0:\n",
    "        acc, conf_mat = validate(model, val_loader)\n",
    "        \n",
    "        print(f'val_acc = {acc}')\n",
    "        \n",
    "        plot_conf(conf_mat)\n",
    "        \n",
    "    train_one_epoch(model, opt, train_loader)\n",
    "    \n",
    "    acc, conf_mat = validate(model, val_loader)\n",
    "    \n",
    "    print(f'val_acc = {acc}')\n",
    "\n",
    "    plot_conf(conf_mat)"
   ]
  },
  {
   "cell_type": "code",
   "execution_count": null,
   "metadata": {
    "collapsed": true,
    "jupyter": {
     "outputs_hidden": true
    }
   },
   "outputs": [],
   "source": []
  }
 ],
 "metadata": {
  "kernelspec": {
   "display_name": "py37_UZA",
   "language": "python",
   "name": "py37_uza"
  },
  "language_info": {
   "codemirror_mode": {
    "name": "ipython",
    "version": 3
   },
   "file_extension": ".py",
   "mimetype": "text/x-python",
   "name": "python",
   "nbconvert_exporter": "python",
   "pygments_lexer": "ipython3",
   "version": "3.7.9"
  }
 },
 "nbformat": 4,
 "nbformat_minor": 4
}
