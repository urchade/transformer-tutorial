{
 "cells": [
  {
   "cell_type": "markdown",
   "metadata": {},
   "source": [
    "# Attention is All You Need"
   ]
  },
  {
   "cell_type": "code",
   "execution_count": 1,
   "metadata": {},
   "outputs": [],
   "source": [
    "import torch\n",
    "from torch import nn\n",
    "import torch.nn.functional as F\n",
    "\n",
    "import numpy as np"
   ]
  },
  {
   "cell_type": "markdown",
   "metadata": {},
   "source": [
    "<center><img src=\"images/transformer.PNG\"/></center>"
   ]
  },
  {
   "cell_type": "markdown",
   "metadata": {},
   "source": [
    "## Attention mecanism"
   ]
  },
  {
   "cell_type": "markdown",
   "metadata": {},
   "source": [
    "$$\\text{Attention} = \\frac{QK^T}{\\sqrt {d_k}}V$$"
   ]
  },
  {
   "cell_type": "markdown",
   "metadata": {},
   "source": [
    "<center><img src=\"images/dot_att.PNG\"/></center>\n"
   ]
  },
  {
   "cell_type": "code",
   "execution_count": 2,
   "metadata": {},
   "outputs": [],
   "source": [
    "def attention(query, key, value, mask=None):\n",
    "    \n",
    "    d_model = query.size(-1)\n",
    "    \n",
    "    score = query @ key.transpose(-1, -2) / np.sqrt(d_model)\n",
    "    \n",
    "    if mask != None:\n",
    "        score = score.masked_fill_(mask == 0, float('-inf'))\n",
    "                \n",
    "    normalized_score = F.softmax(score, dim=-1)\n",
    "    \n",
    "    output = normalized_score @ value\n",
    "    \n",
    "    return output, normalized_score\n",
    "\n"
   ]
  },
  {
   "cell_type": "code",
   "execution_count": 3,
   "metadata": {},
   "outputs": [],
   "source": [
    "def get_masks(seq_ids, pad_idx=0):\n",
    "    \n",
    "    batch_size, max_len = seq_ids.size()\n",
    "    \n",
    "    mask = (seq_ids != 0).float().unsqueeze(-2).type_as(seq_ids) # batch_size, 1, max_len\n",
    "    \n",
    "    causal_mask = torch.tril(torch.ones(max_len, max_len)).type_as(seq_ids) # max_len, max_len\n",
    "                    \n",
    "    return mask, causal_mask"
   ]
  },
  {
   "cell_type": "code",
   "execution_count": 9,
   "metadata": {},
   "outputs": [],
   "source": [
    "# Example\n",
    "\n",
    "def create_synthetic_data(bs, slen):\n",
    "\n",
    "    x = torch.zeros(bs, slen)\n",
    "\n",
    "    for i in range(len(x)):\n",
    "\n",
    "        xi_len = np.random.randint(5, slen)\n",
    "\n",
    "        xi = torch.randint(0, 1000, size=(xi_len,))\n",
    "\n",
    "        x[i, :xi_len] = xi\n",
    "        \n",
    "    score = torch.randn((bs, 8, slen, slen))\n",
    "\n",
    "    return x, score\n",
    "\n",
    "## score\n",
    "x, score = create_synthetic_data(5, 17)\n",
    "\n",
    "mask, causal = get_masks(x)"
   ]
  },
  {
   "cell_type": "code",
   "execution_count": 10,
   "metadata": {},
   "outputs": [
    {
     "data": {
      "image/png": "[encoded data removed]",
      "text/plain": [
       "<Figure size 1440x1440 with 8 Axes>"
      ]
     },
     "metadata": {
      "needs_background": "light"
     },
     "output_type": "display_data"
    }
   ],
   "source": [
    "## masked score\n",
    "score = score#.masked_fill_((causal).unsqueeze(-3)  == 0, float('-inf'))\n",
    "\n",
    "## Normalize score with softmax\n",
    "n_score = F.softmax(score, -1)\n",
    "\n",
    "## Visualization \n",
    "import matplotlib.pyplot as plt\n",
    "\n",
    "fig = plt.figure(figsize=(20, 20))\n",
    "\n",
    "columns = 8\n",
    "rows = 1\n",
    "\n",
    "for i in range(1, columns*rows +1):\n",
    "    fig.add_subplot(rows, columns, i)\n",
    "    plt.imshow(n_score[0][i - 1])\n",
    "    plt.title(f'Head {i}')\n",
    "    \n",
    "plt.show()"
   ]
  },
  {
   "cell_type": "markdown",
   "metadata": {},
   "source": [
    "### Multi-Head Attention"
   ]
  },
  {
   "cell_type": "markdown",
   "metadata": {},
   "source": [
    "<center><img src=\"images/multi_head.png\" style=\"center\"/> <center>\n",
    "    "
   ]
  },
  {
   "cell_type": "code",
   "execution_count": 24,
   "metadata": {},
   "outputs": [],
   "source": [
    "class MHA(nn.Module):\n",
    "    \n",
    "    def __init__(self, d_model, n_head):\n",
    "        super().__init__()\n",
    "        \n",
    "        assert d_model % n_head == 0\n",
    "        \n",
    "        self.d_model = d_model\n",
    "        self.n_head = n_head\n",
    "        \n",
    "        \n",
    "        self.W_q = nn.Linear(d_model, d_model, bias=False)\n",
    "        self.W_k = nn.Linear(d_model, d_model, bias=False)\n",
    "        self.W_v = nn.Linear(d_model, d_model, bias=False)\n",
    "        \n",
    "        self.W_o = nn.Linear(d_model, d_model)\n",
    "        \n",
    "    def forward(self, query, key, value, mask=None):\n",
    "        # mask: [batch_size, *_]\n",
    "        \n",
    "        batch_size, *_ = query.size()\n",
    "        \n",
    "        if mask != None:\n",
    "            # add dimension for head\n",
    "            mask = mask.unsqueeze(-3)\n",
    "        \n",
    "        query = self.W_q(query)\n",
    "        key = self.W_k(key)\n",
    "        value = self.W_v(value)\n",
    "        \n",
    "        query = query.view(batch_size, -1, self.n_head, self.d_model//self.n_head).transpose(1, 2)\n",
    "        key = key.view(batch_size, -1, self.n_head, self.d_model//self.n_head).transpose(1, 2)\n",
    "        value = value.view(batch_size, -1, self.n_head, self.d_model//self.n_head).transpose(1, 2)\n",
    "        \n",
    "        output, att = attention(query, key, value, mask)\n",
    "        \n",
    "        output = output.transpose(1, 2).contiguous().view(batch_size, -1, self.d_model)\n",
    "        \n",
    "        return self.W_o(output)\n",
    "    \n",
    "    "
   ]
  },
  {
   "cell_type": "markdown",
   "metadata": {},
   "source": [
    "## Positional encoding"
   ]
  },
  {
   "cell_type": "markdown",
   "metadata": {},
   "source": [
    "$$PE_{(pos, 2i)} = sin(pos/10000^{2i/d_{model}})$$\n",
    "\n",
    "$$PE_{(pos, 2i+1)} = cos(pos/10000^{2i/d_{model}})$$"
   ]
  },
  {
   "cell_type": "code",
   "execution_count": 25,
   "metadata": {},
   "outputs": [],
   "source": [
    "class PositionEmbedding(nn.Module):\n",
    "    \n",
    "    def __init__(self, max_position, d_model):\n",
    "        \n",
    "        super().__init__()\n",
    "        \n",
    "        self.embedding = nn.Embedding(max_position, d_model)\n",
    "                \n",
    "        pe_pair = np.sin(\n",
    "            np.array([[pos / np.power(10000, 2 * i / d_model) for i in range(0, d_model, 2)] for pos in range(max_position)])\n",
    "        )\n",
    "        \n",
    "        pe_impair = np.cos(\n",
    "            np.array([[pos / np.power(10000, 2 * i / d_model) for i in range(1, d_model, 2)] for pos in range(max_position)])\n",
    "        )\n",
    "                \n",
    "        self.embedding.weight[:, 0::2] = torch.FloatTensor(pe_pair)\n",
    "        self.embedding.weight[:, 1::2] = torch.FloatTensor(pe_impair)\n",
    "        self.embedding.weight.detach_()\n",
    "        self.embedding.weight.requires_grad = False\n",
    "        \n",
    "    def forward(self, x):\n",
    "        \n",
    "        batch_size, seq_len, d_model = x.size()\n",
    "        \n",
    "        positions = torch.arange(seq_len, device=x.device)\n",
    "        \n",
    "        pos_emb = self.embedding(positions).expand_as(x)\n",
    "        \n",
    "        return x + pos_emb\n",
    "    \n",
    "    "
   ]
  },
  {
   "cell_type": "code",
   "execution_count": 26,
   "metadata": {},
   "outputs": [],
   "source": [
    "pos_emb = PositionEmbedding(150, 512)"
   ]
  },
  {
   "cell_type": "code",
   "execution_count": 29,
   "metadata": {},
   "outputs": [],
   "source": [
    "weight = pos_emb.embedding.weight.data"
   ]
  },
  {
   "cell_type": "code",
   "execution_count": 30,
   "metadata": {},
   "outputs": [
    {
     "data": {
      "text/plain": [
       "<matplotlib.image.AxesImage at 0x7f01b795bad0>"
      ]
     },
     "execution_count": 30,
     "metadata": {},
     "output_type": "execute_result"
    },
    {
     "data": {
      "image/png": "[encoded data removed]",
      "text/plain": [
       "<Figure size 432x288 with 1 Axes>"
      ]
     },
     "metadata": {
      "needs_background": "light"
     },
     "output_type": "display_data"
    }
   ],
   "source": [
    "plt.imshow(weight)"
   ]
  },
  {
   "cell_type": "markdown",
   "metadata": {},
   "source": [
    "## Layer Normalization"
   ]
  },
  {
   "cell_type": "markdown",
   "metadata": {},
   "source": [
    "Layer normalization normalizes across the feature dimension (d_model)."
   ]
  },
  {
   "cell_type": "code",
   "execution_count": 31,
   "metadata": {},
   "outputs": [],
   "source": [
    "class LayerNorm(nn.Module):\n",
    "    def __init__(self, d_model, eps=1e-6):\n",
    "        \"\"\"Layer Normalization (see nn.LayerNorm(..))\"\"\"\n",
    "\n",
    "        super().__init__()\n",
    "        \n",
    "        self.a = nn.Parameter(torch.ones(d_model))\n",
    "        self.b = nn.Parameter(torch.zeros(d_model))\n",
    "        self.eps = eps\n",
    "        \n",
    "    def forward(self, x):\n",
    "        \n",
    "        mean = x.mean(-1, keepdim=True)\n",
    "        std = x.std(-1, keepdim=True)\n",
    "        \n",
    "        return self.a * (x - mean) / (std + self.eps) + self.b"
   ]
  },
  {
   "cell_type": "markdown",
   "metadata": {},
   "source": [
    "## Feed Forward Layer"
   ]
  },
  {
   "cell_type": "markdown",
   "metadata": {},
   "source": [
    "The positionwise feed-forward network transforms the representation at all the sequence positions using the same MLP."
   ]
  },
  {
   "cell_type": "code",
   "execution_count": 33,
   "metadata": {},
   "outputs": [],
   "source": [
    "class FeedForward(nn.Module):\n",
    "    def __init__(self, d_model, d_ffn, activation=nn.ReLU()):\n",
    "        super().__init__()\n",
    "        \n",
    "        self.layer = nn.Sequential(\n",
    "            nn.Linear(d_model, d_ffn),\n",
    "            activation,\n",
    "            nn.Linear(d_ffn, d_model)\n",
    "        )\n",
    "        \n",
    "    def forward(self, x):\n",
    "        \n",
    "        x = self.layer(x)\n",
    "        \n",
    "        return x"
   ]
  },
  {
   "cell_type": "markdown",
   "metadata": {},
   "source": [
    "## Add & Norm"
   ]
  },
  {
   "cell_type": "markdown",
   "metadata": {},
   "source": [
    "Residual connection followed by layer normalization"
   ]
  },
  {
   "cell_type": "code",
   "execution_count": 32,
   "metadata": {},
   "outputs": [],
   "source": [
    "class AddNorm(nn.Module):\n",
    "    \n",
    "    def __init__(self, d_model):\n",
    "        super().__init__()\n",
    "        \n",
    "        self.norm = LayerNorm(d_model)\n",
    "        \n",
    "    def forward(self, x, y):\n",
    "        \n",
    "        a = x + y\n",
    "        \n",
    "        return self.norm(a)"
   ]
  },
  {
   "cell_type": "markdown",
   "metadata": {},
   "source": [
    "## Transformer Encoder block"
   ]
  },
  {
   "cell_type": "markdown",
   "metadata": {},
   "source": [
    "<center><img src=\"images/encoder_block.PNG\" align=\"center\"/></center>"
   ]
  },
  {
   "cell_type": "markdown",
   "metadata": {},
   "source": [
    "TransformerEncoderBlock class contains two sublayers: multi-head self-attention and positionwise feed-forward networks, where a residual connection\n",
    "followed by layer normalization is employed around both sublayers."
   ]
  },
  {
   "cell_type": "code",
   "execution_count": 34,
   "metadata": {
    "collapsed": true,
    "jupyter": {
     "outputs_hidden": true
    }
   },
   "outputs": [],
   "source": [
    "class TransformerEncoderBlock(nn.Module):\n",
    "    \n",
    "    def __init__(self, d_model, n_head, d_ffn=1024):\n",
    "        \n",
    "        super().__init__()\n",
    "        \n",
    "        assert d_model % n_head == 0\n",
    "        \n",
    "        self.addnorm_1 = AddNorm(d_model)\n",
    "        self.addnorm_2 = AddNorm(d_model)\n",
    "        \n",
    "        self.att = MHA(d_model, n_head)\n",
    "        self.ffn = FeedForward(d_model, d_ffn)\n",
    "        \n",
    "    def forward(self, x, mask):\n",
    "        \n",
    "        x = self.addnorm_1(x, self.att(x, x, x, mask))\n",
    "        \n",
    "        x = self.addnorm_2(x, self.ffn(x))\n",
    "        \n",
    "        return x\n",
    "    \n",
    "    "
   ]
  },
  {
   "cell_type": "markdown",
   "metadata": {},
   "source": [
    "## Transformer Encoder (Copy block N times)"
   ]
  },
  {
   "cell_type": "markdown",
   "metadata": {},
   "source": [
    "We stack num_layers instances of the TransformerEncoderBlock"
   ]
  },
  {
   "cell_type": "code",
   "execution_count": 35,
   "metadata": {
    "collapsed": true,
    "jupyter": {
     "outputs_hidden": true
    }
   },
   "outputs": [],
   "source": [
    "class TransformerEncoder(nn.Module):\n",
    "    \n",
    "    def __init__(self, d_model=512, n_head=8, num_layers=4, d_ffn=1024):\n",
    "        \n",
    "        super().__init__()\n",
    "        \n",
    "        assert d_model % n_head == 0\n",
    "        \n",
    "        self.layers = nn.ModuleList([TransformerEncoderBlock(d_model, n_head, d_ffn) for _ in range(num_layers)])\n",
    "        \n",
    "    def forward(self, x, mask=None):\n",
    "        \n",
    "        for encoder in self.layers:\n",
    "            x = encoder(x, mask)\n",
    "            \n",
    "        return x"
   ]
  },
  {
   "cell_type": "markdown",
   "metadata": {},
   "source": [
    "## Transformer Decoder block"
   ]
  },
  {
   "cell_type": "markdown",
   "metadata": {},
   "source": [
    "<center><img src=\"images/decoder_block.PNG\" align=\"center\"/></center>"
   ]
  },
  {
   "cell_type": "markdown",
   "metadata": {},
   "source": [
    "TransformerDecoderBlock class contains three sublayers: (masked) multi-head self-attention, encoder-decoder cross-attention and positionwise feed-forward networks A residual connection followed by layer normalization is employed around each sublayers."
   ]
  },
  {
   "cell_type": "code",
   "execution_count": 34,
   "metadata": {},
   "outputs": [],
   "source": [
    "class TransformerDecoderBlock(nn.Module):\n",
    "    \n",
    "    def __init__(self, d_model, n_head, d_ffn=1024):\n",
    "        \n",
    "        super().__init__()\n",
    "        \n",
    "        assert d_model % n_head == 0\n",
    "        \n",
    "        self.addnorm_1 = AddNorm(d_model)\n",
    "        self.addnorm_2 = AddNorm(d_model)\n",
    "        self.addnorm_3 = AddNorm(d_model)\n",
    "        \n",
    "        self.self_att = MHA(d_model, n_head)\n",
    "        self.cross_att = MHA(d_model, n_head)\n",
    "        self.ffn = FeedForward(d_model, d_ffn)\n",
    "        \n",
    "    def forward(self, y, memory, y_mask=None, memory_mask=None):\n",
    "        \n",
    "        y = self.addnorm_1(y, self.self_att(y, y, y, y_mask))\n",
    "        \n",
    "        y = self.addnorm_2(y, self.cross_att(y, memory, memory, memory_mask))\n",
    "        \n",
    "        y = self.addnorm_3(y, self.ffn(y))\n",
    "        \n",
    "        return y\n",
    "    \n",
    "    "
   ]
  },
  {
   "cell_type": "markdown",
   "metadata": {},
   "source": [
    "## Transformer Decoder (Copy block N times)"
   ]
  },
  {
   "cell_type": "markdown",
   "metadata": {},
   "source": [
    "We stack num_layers instances of the TransformerDecoderBlock"
   ]
  },
  {
   "cell_type": "code",
   "execution_count": 35,
   "metadata": {},
   "outputs": [],
   "source": [
    "class TransformerDecoder(nn.Module):\n",
    "    \n",
    "    def __init__(self, d_model=512, n_head=8, num_layers=1, d_ffn=1024):\n",
    "        \n",
    "        super().__init__()\n",
    "        \n",
    "        assert d_model % n_head == 0\n",
    "        \n",
    "        self.layers = nn.ModuleList([TransformerDecoderBlock(d_model, n_head, d_ffn) for _ in range(num_layers)])\n",
    "        \n",
    "    def forward(self, y, memory, y_mask=None, memory_mask=None):\n",
    "        \n",
    "        for decoder in self.layers:\n",
    "            y = decoder(y, memory, y_mask, memory_mask)\n",
    "            \n",
    "        return y"
   ]
  },
  {
   "cell_type": "markdown",
   "metadata": {},
   "source": [
    "## Transformer (Encoder + Decoder)"
   ]
  },
  {
   "cell_type": "code",
   "execution_count": 36,
   "metadata": {},
   "outputs": [],
   "source": [
    "class Transformer(nn.Module):\n",
    "    def __init__(self, d_model=512, n_head=8, num_layers=1, d_ffn=1024):\n",
    "        super().__init__()\n",
    "        \n",
    "        self.encoder = TransformerEncoder(d_model, n_head, num_layers, d_ffn)\n",
    "        self.decoder = TransformerDecoder(d_model, n_head, num_layers, d_ffn)\n",
    "        \n",
    "        \n",
    "    def forward(self, x, y, x_mask=None, y_mask=None):\n",
    "        \n",
    "        memory = self.encoder(x, x_mask)\n",
    "        prediction = self.decoder(y, memory, y_mask, x_mask)\n",
    "        \n",
    "        return prediction"
   ]
  },
  {
   "cell_type": "code",
   "execution_count": null,
   "metadata": {
    "collapsed": true,
    "jupyter": {
     "outputs_hidden": true
    }
   },
   "outputs": [],
   "source": []
  }
 ],
 "metadata": {
  "kernelspec": {
   "display_name": "py37_UZA",
   "language": "python",
   "name": "py37_uza"
  },
  "language_info": {
   "codemirror_mode": {
    "name": "ipython",
    "version": 3
   },
   "file_extension": ".py",
   "mimetype": "text/x-python",
   "name": "python",
   "nbconvert_exporter": "python",
   "pygments_lexer": "ipython3",
   "version": "3.7.9"
  }
 },
 "nbformat": 4,
 "nbformat_minor": 4
}
